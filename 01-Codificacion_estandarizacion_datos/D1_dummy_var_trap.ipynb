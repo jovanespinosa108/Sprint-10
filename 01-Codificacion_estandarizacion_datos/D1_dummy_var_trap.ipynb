{
 "cells": [
  {
   "cell_type": "markdown",
   "id": "7f4cfac3",
   "metadata": {},
   "source": [
    "### La trampa dummy\n",
    "\n",
    "Como es de esperar, en One-Hot Encoding hay más de lo que parece. Cuando los datos son abundantes, tenemos la posibilidad de caer en la trampa de las características dummy. Aquí aprenderemos cómo evitarla.\n",
    "\n",
    "Para obtener tu identificación del Departamento de Vehículos Motorizados, debes presentar un comprobante de residencia actual en tu estado. Tú sabes cómo es el departamento, así que para no fallar y terminar en una sola visita, traes la factura de servicios públicos, el contrato de hipoteca y la factura del impuesto a la propiedad, aunque sería suficiente traer dos de esos documentos. Si bien traer todos los documentos que puedas para luchar contra la burocracia puede ser una buena idea al tratar con el deparmento, no se aplica el mismo principio a la capacitación de modelos. Si mantienes las características como están ahora, esto dificultará el proceso de entrenamiento.\n",
    "\n",
    "Hemos agregado tres columnas nuevas a nuestra tabla, pero su alta correlación confundirá a nuestro modelo. Para evitar esto, podemos eliminar con seguridad cualquier columna, ya que sus valores se pueden deducir fácilmente de las otras dos columnas (tiene 1 donde las otras dos columnas tienen ceros y tiene ceros en el resto). De esta manera, no caeremos en la trampa dummy.\n",
    "\n",
    "Para eliminar la columna, llama a la función pd.get_dummies() junto con el parámetro drop_first. Si pasas drop_first=True entonces se elimina la primera columna. De lo contrario, es drop_first=False por defecto y no se descartan columnas.\n",
    "\n",
    "\n",
    "\n",
    "2.\n",
    "\n",
    "Progra"
   ]
  },
  {
   "cell_type": "markdown",
   "id": "6d311f96",
   "metadata": {},
   "source": [
    "#### Ejercicio\n",
    "\n",
    "1. Programa la variableGender con OHE. Llama a pd.get_dummies() con el argumento drop_first para evitar la trampa dummy. Muestra en pantalla las primeras cinco filas de la tabla modificada."
   ]
  },
  {
   "cell_type": "code",
   "execution_count": null,
   "id": "8dd1b062",
   "metadata": {},
   "outputs": [],
   "source": [
    "import pandas as pd\n",
    "\n",
    "data = pd.read_csv('/datasets/travel_insurance_us.csv')\n",
    "# < escribe el código aquí  >\n",
    "print(pd.get_dummies(data['Gender'], drop_first=True).head())\n",
    "\n",
    "\"\"\"\n",
    "Resultado\n",
    "   M  None\n",
    "0  1     0\n",
    "1  0     1\n",
    "2  0     1\n",
    "3  0     1\n",
    "4  1     0\n",
    "\"\"\""
   ]
  },
  {
   "cell_type": "markdown",
   "id": "a766122e",
   "metadata": {},
   "source": [
    "#### Ejercicio\n",
    "\n",
    "2. Programa todo el DataFrame con One-Hot. Llama a pd.get_dummies() con el argumento drop_first. Almacena la tabla en la variable data_ohe.\n",
    "\n",
    "Muestra en pantalla las primeras tres filas de la tabla resultante."
   ]
  },
  {
   "cell_type": "code",
   "execution_count": null,
   "id": "dacef9c7",
   "metadata": {},
   "outputs": [],
   "source": [
    "import pandas as pd\n",
    "\n",
    "data = pd.read_csv('/datasets/travel_insurance_us.csv')\n",
    "\n",
    "# < escribe el código aquí  >\n",
    "data_ohe = data\n",
    "\n",
    "print(pd.get_dummies(data_ohe, drop_first=True).head(3))\n",
    "\n",
    "\"\"\"\n",
    "Claim  Duration  Net Sales  ...  Destination_ZIMBABWE  Gender_M  Gender_None\n",
    "0      0        12       45.0  ...                     0         1            0\n",
    "1      0        50       22.0  ...                     0         0            1\n",
    "2      0       251       80.0  ...                     0         0            1\n",
    "\n",
    "[3 rows x 189 columns]\"\"\""
   ]
  },
  {
   "cell_type": "markdown",
   "id": "1c9a3ef8",
   "metadata": {},
   "source": [
    "#### Ejercicio\n",
    "\n",
    "3. Divide los datos de origen en dos conjuntos utilizando la proporción de 75:25 (%):\n",
    "\n",
    "entrenamiento (train)\n",
    "validación (valid)\n",
    "\n",
    "Declara cuatro variables y almacena las características y el objetivo de la siguiente manera:\n",
    "\n",
    "características: features_train, features_valid\n",
    "objetivo: target_train, target_valid\n",
    "\n",
    "Vas a dominar una forma alternativa de usar la función train_test_split(): puede tomar dos variables (características y objetivo). Consulta la documentación de este método en particular.\n",
    "\n",
    "Entrena una regresión logística. Muestra en pantalla el texto \"¡Entrenado!\" (ya en precódigo) para asegurarte de que el código terminó de ejecutarse sin problemas.\n",
    "\n",
    "Especifica random_state=12345 tanto para la división de datos como para el entrenamiento del modelo.\n",
    "\n",
    "Al entrenar una regresión logística, es posible que encuentres una advertencia de sklearn. Esta no te impedirá pasar la tarea, pero si no te gusta ver un montón de código en rojo en tu pantalla, especifica el argumento solver='liblinear'; librería linear:\n",
    "\n",
    "model = LogisticRegression(solver='liblinear')"
   ]
  },
  {
   "cell_type": "code",
   "execution_count": null,
   "id": "f1557600",
   "metadata": {},
   "outputs": [],
   "source": [
    "import pandas as pd\n",
    "from sklearn.model_selection import train_test_split\n",
    "from sklearn.linear_model import LogisticRegression\n",
    "\n",
    "data = pd.read_csv('/datasets/travel_insurance_us.csv')\n",
    "\n",
    "data_ohe = pd.get_dummies(data, drop_first=True)\n",
    "target = data_ohe['Claim']\n",
    "features = data_ohe.drop('Claim', axis=1)\n",
    "\n",
    "# < escribe el código aquí  >\n",
    "features_train, features_valid, target_train, target_valid = train_test_split(features, target, test_size=0.25, random_state=12345)\n",
    "\n",
    "model = LogisticRegression(random_state =12345, solver='liblinear')\n",
    "model.fit(features_train, target_train)\n",
    "#score_train= model.score(features_train, target_train)\n",
    "\n",
    "print('¡Entrenado!')\n",
    "\n",
    "#output: ¡Entrenado!"
   ]
  }
 ],
 "metadata": {
  "kernelspec": {
   "display_name": "machine_learning_env",
   "language": "python",
   "name": "python3"
  },
  "language_info": {
   "name": "python",
   "version": "3.12.9"
  }
 },
 "nbformat": 4,
 "nbformat_minor": 5
}
