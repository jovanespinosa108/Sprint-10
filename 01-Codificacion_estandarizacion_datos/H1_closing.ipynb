{
 "cells": [
  {
   "cell_type": "markdown",
   "id": "98499d36",
   "metadata": {},
   "source": [
    "Cierre\n",
    "\n",
    "¡Ahora eres profesional de la Data Science en un 80 %! ¡Es broma! Todavía no, ¡pero has recorrido un largo camino!\n",
    "\n",
    "Combinemos la codificación de características categóricas y la estandarización de características numéricas y veamos el código final:"
   ]
  },
  {
   "cell_type": "code",
   "execution_count": null,
   "id": "666344f2",
   "metadata": {},
   "outputs": [],
   "source": [
    "import pandas as pd\n",
    "from sklearn.model_selection import train_test_split\n",
    "from sklearn.preprocessing import StandardScaler\n",
    "\n",
    "data = pd.read_csv('travel_insurance_us.csv')\n",
    "\n",
    "data_ohe = pd.get_dummies(data, drop_first=True)\n",
    "target = data_ohe['Claim']\n",
    "features = data_ohe.drop('Claim', axis=1)\n",
    "features_train, features_valid, target_train, target_valid = train_test_split(\n",
    "    features, target, test_size=0.25, random_state=12345)\n",
    "\n",
    "numeric = [\"Duration\", \"Net Sales\", \"Commission (en valor)\", \"Age\"]\n",
    "\n",
    "scaler = StandardScaler()\n",
    "scaler.fit(features_train[numeric])\n",
    "features_train[numeric] = scaler.transform(features_train[numeric])\n",
    "features_valid[numeric] = scaler.transform(features_valid[numeric])\n",
    "\n",
    "print(features_train.shape)\n",
    "\n",
    "# (37995, 188)"
   ]
  },
  {
   "cell_type": "markdown",
   "id": "a065a03e",
   "metadata": {},
   "source": [
    "Pregunta\n",
    "\n",
    "¿Qué está pasando en el siguiente código?\n",
    "\n",
    "data_ohe = pd.get_dummies(data, drop_first=True)\n",
    "\n",
    "Respuesta: Codificación One-Hot de características categóricas\n",
    "\n",
    "\n",
    "Pregunta\n",
    "\n",
    "¿Qué está pasando en el siguiente código?\n",
    "\n",
    "features_train, features_valid, target_train, target_valid = train_test_split(features, target, test_size=0.25, random_state=12345)\n",
    "\n",
    "Respuesta: División de datos en un conjunto de entrenamiento y un conjunto de validación\n",
    "\n",
    "¡Correcto! Necesitamos este paso para probar el modelo y ajustar los hiperparámetros.\n",
    "\n",
    "\n",
    "Pregunta\n",
    "\n",
    "¿Qué está pasando en el siguiente código?\n",
    "\n",
    "scaler = StandardScaler()\n",
    "scaler.fit(features_train[numeric])\n",
    "features_train[numeric] = scaler.transform(features_train[numeric])\n",
    "features_valid[numeric] = scaler.transform(features_valid[numeric])\n",
    "\n",
    "Respuesta: Escalado de datos\n",
    "\n",
    "¡Correcto! Estandarizamos las funciones para facilitar que los algoritmos entrenen modelos.\n"
   ]
  },
  {
   "cell_type": "markdown",
   "id": "e4d7c4b7",
   "metadata": {},
   "source": [
    "Conclusión\n",
    "\n",
    "En este capítulo aprendiste a hacer lo siguiente:\n",
    "\n",
    "Codificar características categóricas con OHE.\n",
    "Transformar características categóricas con codificación ordinal.\n",
    "Escalar características numéricas.\n",
    "En el próximo capítulo descubrirás por qué la métrica exactitud no es adecuada para resolver nuestro problema de seguros y aprenderás sobre las otras métricas que tenemos a nuestra disposición."
   ]
  }
 ],
 "metadata": {
  "kernelspec": {
   "display_name": "machine_learning_env",
   "language": "python",
   "name": "python3"
  },
  "language_info": {
   "name": "python",
   "version": "3.12.9"
  }
 },
 "nbformat": 4,
 "nbformat_minor": 5
}
