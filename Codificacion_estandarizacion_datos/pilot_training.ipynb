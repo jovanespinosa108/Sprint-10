{
 "cells": [
  {
   "cell_type": "markdown",
   "id": "083679ec",
   "metadata": {},
   "source": [
    "Entrenamiento de pilotos\n",
    "\n",
    "Para predecir la clase, necesitamos a nuestra vieja amiga, la regresión logística.\n",
    "\n",
    "La regresión logística se utiliza para tareas de clasificación. En nuestro caso, es binaria: se presenta el reclamo o no.\n",
    "\n",
    "Intentaremos entrenar nuestro modelo. ¿Crees que podemos entrenarlo usando los datos sin procesar? ¡Vamos a arriesgarnos!"
   ]
  },
  {
   "cell_type": "code",
   "execution_count": null,
   "id": "83019aaf",
   "metadata": {},
   "outputs": [],
   "source": [
    "import pandas as pd\n",
    "from sklearn.model_selection import train_test_split\n",
    "from sklearn.linear_model import LogisticRegression\n",
    "\n",
    "data = pd.read_csv('travel_insurance_us.csv')\n",
    "\n",
    "train, valid = train_test_split(data, test_size=0.25, random_state=12345)\n",
    "\n",
    "features_train = train.drop('Claim', axis=1)\n",
    "target_train = train['Claim']\n",
    "features_valid = valid.drop('Claim', axis=1)\n",
    "target_valid = valid['Claim']\n",
    "\n",
    "model = LogisticRegression()\n",
    "model.fit(features_train, target_train)\n",
    "\n",
    "# ValueError: could not convert string to float: 'M'\n"
   ]
  },
  {
   "cell_type": "markdown",
   "id": "6c125c94",
   "metadata": {},
   "source": [
    "Muy bien, ¡adelante! Es el momento perfecto para un \"te lo dije\". Tenías razón, cometimos un error.\n",
    "\n",
    "¿Qué salió mal?\n",
    "\n",
    "La regresión logística determina la categoría utilizando una fórmula que consta de características numéricas. Además de numéricas, nuestros datos contenían características categóricas, de ahí el error.\n",
    "\n"
   ]
  },
  {
   "cell_type": "markdown",
   "id": "c369ac1e",
   "metadata": {},
   "source": [
    "Ejercicio\n",
    "\n",
    "1. Verifica los tipos de características almacenadas en la tabla. Muéstralos. Luego muestra en pantalla los primeros cinco valores de la columna Gender"
   ]
  },
  {
   "cell_type": "code",
   "execution_count": null,
   "id": "33307ab1",
   "metadata": {},
   "outputs": [],
   "source": [
    "# Shows data types and first five values for 'Gender' Column\n",
    "print(data.dtypes)\n",
    "print()\n",
    "print(data['Gender'].head())"
   ]
  },
  {
   "cell_type": "markdown",
   "id": "e772f3a3",
   "metadata": {},
   "source": [
    "Resultado\n",
    "\n",
    "Agency                    object\n",
    "Agency Type               object\n",
    "Distribution Channel      object\n",
    "Product Name              object\n",
    "Claim                      int64\n",
    "Duration                   int64\n",
    "Destination               object\n",
    "Net Sales                float64\n",
    "Commission (in value)    float64\n",
    "Gender                    object\n",
    "Age                        int64\n",
    "dtype: object\n",
    "\n",
    "0       M\n",
    "1    None\n",
    "2    None\n",
    "3    None\n",
    "4       M\n",
    "Name: Gender, dtype: object"
   ]
  }
 ],
 "metadata": {
  "kernelspec": {
   "display_name": "machine_learning_env",
   "language": "python",
   "name": "python3"
  },
  "language_info": {
   "name": "python",
   "version": "3.12.9"
  }
 },
 "nbformat": 4,
 "nbformat_minor": 5
}
