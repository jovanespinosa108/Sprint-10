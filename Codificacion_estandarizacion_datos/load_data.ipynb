{
 "cells": [
  {
   "cell_type": "markdown",
   "id": "711392bc",
   "metadata": {},
   "source": [
    "Introducción\n",
    "\n",
    "Para las tareas de machine learning no solo necesitamos preparar datos, sino también características.\n",
    "\n",
    "¿Qué aprenderás?\n",
    "\n",
    "- Transformar características categóricas con codificación One-Hot para entrenar una regresión logística.\n",
    "- Realizar la codificación ordinal de características categóricas para entrenar un árbol de decisión.\n",
    "- Mejorar las métricas de evaluación escalando características.\n",
    "\n",
    "Descripción del ejercicio\n",
    "\n",
    "Prepararemos datos para entrenar un modelo que prediga si un cliente hará un reclamo de seguro."
   ]
  },
  {
   "cell_type": "markdown",
   "id": "74466cd5",
   "metadata": {},
   "source": [
    "Carga de datos\n",
    "\n",
    "Analicemos el ejercicio, carguemos los datos e investiguemos las características.\n",
    "\n",
    "Los ingresos de los pagos de la clientela superan con creces los costos de liquidación de reclamaciones. El plan de cada compañía de seguros es que solo una pequeña parte de la clientela hará un reclamo, mientras que la mayoría de las personas no recurrirán a él.\n",
    "\n",
    "Cada cliente que se une es una caja negra para la compañía de seguros de viaje. ¿Qué probabilidad hay de que la empresa tenga que pagar? Históricamente, solo el 1 % de la clientela reclama beneficios de seguro. ¿Cómo predecir, entonces, si una persona lo necesitará?\n",
    "\n",
    "El machine learning nos permite calcular la probabilidad de una reclamación de seguro."
   ]
  },
  {
   "cell_type": "markdown",
   "id": "b9023eea",
   "metadata": {},
   "source": [
    "Tenemos las siguientes características:\n",
    "\n",
    "Agency: nombre de la agencia de seguros\n",
    "\n",
    "Agency Type: tipo de agencia de seguros\n",
    "\n",
    "Distribution Channel: canal de distribución de la agencia de seguros\n",
    "\n",
    "Product Name: nombre del producto de seguro\n",
    "\n",
    "Duration: duración del viaje (días)\n",
    "\n",
    "Destination: destino del viaje\n",
    "\n",
    "Net Sales: ventas netas ($)\n",
    "\n",
    "Commission: comisión de la agencia de seguros ($)\n",
    "\n",
    "Gender: género de la persona asegurada\n",
    "\n",
    "Age: edad de la persona asegurada\n",
    "\n",
    "#### Objetivo:\n",
    "\n",
    "Claim — reclamación de liquidación (1 es sí, 0 es no)"
   ]
  },
  {
   "cell_type": "markdown",
   "id": "6073e162",
   "metadata": {},
   "source": [
    "Ejercicio\n",
    "\n",
    "1. Carga los datos de /datasets/travel_insurance_us.csv a la variable data. Muestra en la pantalla los primeros diez elementos. Mira los datos."
   ]
  },
  {
   "cell_type": "code",
   "execution_count": null,
   "id": "7f90c1ea",
   "metadata": {},
   "outputs": [],
   "source": [
    "import pandas as pd\n",
    "from sklearn.model_selection import train_test_split\n",
    "\n",
    "# Load data\n",
    "data = pd.read_csv('/datasets/travel_insurance_us.csv')\n",
    "\n",
    "# Dataset overview\n",
    "print(data.head(10))"
   ]
  },
  {
   "cell_type": "markdown",
   "id": "4ae86b58",
   "metadata": {},
   "source": [
    "Resultado\n",
    "  Agency    Agency Type Distribution Channel  ... Commission (in value)  Gender  Age\n",
    "0    JZI       Airlines               Online  ...                 15.75       M   39\n",
    "1    EPX  Travel Agency               Online  ...                  0.00    None   36\n",
    "2    EPX  Travel Agency               Online  ...                  0.00    None   36\n",
    "3    EPX  Travel Agency               Online  ...                  0.00    None   36\n",
    "4    JZI       Airlines               Online  ...                 15.75       M   34\n",
    "5    EPX  Travel Agency               Online  ...                  0.00    None   36\n",
    "6    C2B       Airlines               Online  ...                 36.00       F   37\n",
    "7   "
   ]
  },
  {
   "cell_type": "markdown",
   "id": "190f4a62",
   "metadata": {},
   "source": [
    "2. Divide los datos en dos conjuntos:\n",
    "\n",
    "- conjunto de entrenamiento (train)\n",
    "- conjunto de validación (valid) — 25% de los datos de origen\n",
    "\n",
    "Especifica random_state=12345. Declara cuatro variables y almacena las características y el objetivo de la siguiente manera:\n",
    "\n",
    "- características: features_train, features_valid\n",
    "- objetivo: target_train, target_valid\n",
    "\n",
    "Muestra en pantalla los tamaños de las tablas almacenadas en las variables: features_train y features_valid."
   ]
  },
  {
   "cell_type": "code",
   "execution_count": null,
   "id": "c1c92a26",
   "metadata": {},
   "outputs": [],
   "source": [
    "# Show column names\n",
    "print(data.columns)\n",
    "\n",
    "# divide data for train and valid at 25% from origin data\n",
    "train, valid = train_test_split(data, test_size=0.25, random_state=12345)\n",
    "\n",
    "# Crate variables for characteristics (feat) and objective (target)\n",
    "features_train = train.drop('Claim', axis=1)\n",
    "target_train = train['Claim']\n",
    "features_valid = valid.drop('Claim', axis=1)\n",
    "target_valid = valid['Claim']\n",
    "\n",
    "print(features_train.shape)\n",
    "print(features_valid.shape)"
   ]
  },
  {
   "cell_type": "markdown",
   "id": "3e5604aa",
   "metadata": {},
   "source": [
    "Index(['Agency', 'Agency Type', 'Distribution Channel', 'Product Name', 'Claim', 'Duration', 'Destination', 'Net Sales', 'Commission (in value)', 'Gender', 'Age'], dtype='object')\n",
    "\n",
    "(37995, 10)\n",
    "\n",
    "(12665, 10)\n",
    "\n",
    "Vaya, eso es una gran variedad de datos de entrenamiento, como en un bufete donde puedes comer todo lo que quieras. Solo asegúrate de no comer en exceso. Es posible que el seguro no lo cubra."
   ]
  }
 ],
 "metadata": {
  "kernelspec": {
   "display_name": "machine_learning_env",
   "language": "python",
   "name": "python3"
  },
  "language_info": {
   "name": "python",
   "version": "3.12.9"
  }
 },
 "nbformat": 4,
 "nbformat_minor": 5
}
