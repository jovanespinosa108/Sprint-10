{
 "cells": [
  {
   "cell_type": "markdown",
   "id": "6377627d",
   "metadata": {},
   "source": [
    "### Introducción\n",
    "\n",
    "Veamos las métricas de regresión.\n",
    "Empezarás por:\n",
    "\n",
    "- aprender sobre la métrica R2 y cómo calcularla;\n",
    "- aprender a evaluar la calidad del modelo usando la métrica EAM;\n",
    "- descubrir las dos métricas clave, EAM y RECM."
   ]
  },
  {
   "cell_type": "markdown",
   "id": "815501ad",
   "metadata": {},
   "source": [
    "Preparación de datos\n",
    "\n",
    "Veamos la tarea, carguemos los datos e investiguemos sus características.\n",
    "\n",
    "Cada año crece la carga de infraestructura de las aerolíneas. Por ejemplo, en diciembre de 2018, el Aeropuerto Internacional de Bombay estableció un récord mundial con 1007 aviones que completaron el despegue y el aterrizaje ¡en 24 horas!\n",
    "\n",
    "Los vuelos retrasados ponen en peligro el funcionamiento del aeropuerto, perjudicando los ingresos tanto del aeropuerto como de la aerolínea.\n",
    "\n",
    "Para resolver este problema, entrenaremos un modelo de regresión para predecir los tiempos de retraso de los vuelos en minutos."
   ]
  },
  {
   "cell_type": "markdown",
   "id": "8430e12f",
   "metadata": {},
   "source": [
    "Descripción de datos\n",
    "\n",
    "Tenemos las siguientes características:\n",
    "\n",
    "- Month: mes de vuelo\n",
    "- Day: fecha del vuelo\n",
    "- Day Of Week: día de la semana del vuelo\n",
    "- Airline: nombre de la aerolínea\n",
    "- Origin Airport Delay Rate: tasa de retraso de vuelo en el aeropuerto de origen\n",
    "- Destination Airport Delay Rate: tasa de retraso del vuelo en el aeropuerto de destino\n",
    "- Scheduled Time: tiempo de vuelo programado\n",
    "- Distance: distancia del vuelo\n",
    "- Scheduled Departure Hour: hora de salida programada (hora)\n",
    "- Scheduled Departure Minute: hora de salida programada (minuto)\n",
    "\n",
    "Objetivo:\n",
    "\n",
    "- Arrival Delay: retraso de llegada (minuto)\n"
   ]
  },
  {
   "cell_type": "markdown",
   "id": "0cab2a71",
   "metadata": {},
   "source": [
    "Ejercico\n",
    "\n",
    "1. Carga los datos de flights.csv. Se debe mostrar lo siguiente:\n",
    "\n",
    "- Tamaño de la tabla\n",
    "- Primeras cinco filas de la tabla\n",
    "\n",
    "Mira los datos."
   ]
  },
  {
   "cell_type": "code",
   "execution_count": null,
   "id": "6d562b69",
   "metadata": {},
   "outputs": [],
   "source": [
    "import pandas as pd\n",
    "\n",
    "data = pd.read_csv('/datasets/flights.csv')\n",
    "\n",
    "# < escribe el código aquí  >\n",
    "\n",
    "print(data.shape)\n",
    "print(data.head())"
   ]
  },
  {
   "cell_type": "markdown",
   "id": "8242e311",
   "metadata": {},
   "source": [
    "(77909, 11)\n",
    "\n",
    "   Month  Day  ...  Scheduled Departure Minute Arrival Delay\n",
    "0      1    2  ...                          55         -13.0\n",
    "1      1    4  ...                          30         -12.0\n",
    "2      1    4  ...                          30         189.0\n",
    "3      1    3  ...                          25          -7.0\n",
    "4      1    5  ...                          46          -4.0\n",
    "\n",
    "[5 rows x 11 columns]"
   ]
  },
  {
   "cell_type": "markdown",
   "id": "06467971",
   "metadata": {},
   "source": [
    "2. Codifica la característica categórica utilizando OHE. Estandariza las características numéricas. Muestra los tamaños de la tabla (en precódigo).\n",
    "\n",
    "Cuando muestres los resultados en pantalla, no prestes atención al texto en color rojo. Está bien.\n",
    "\n",
    "Llama a las funciones pd.get_dummies() y scaler.transform(), pasa los argumentos requeridos.\n",
    "\n",
    "ncorrect value of variable features_valid: column Day should be data type float64, not int64.\n",
    "\n",
    "Usa scaler.transform() para estandarizar las columnas numéricas en tus funciones de conjunto de validación y asigna el resultado de nuevo a las columnas numéricas de features_valid."
   ]
  },
  {
   "cell_type": "code",
   "execution_count": null,
   "id": "ad8b6e2e",
   "metadata": {},
   "outputs": [],
   "source": [
    "import pandas as pd\n",
    "from sklearn.model_selection import train_test_split\n",
    "from sklearn.preprocessing import StandardScaler\n",
    "\n",
    "data = pd.read_csv('/datasets/flights.csv')\n",
    "\n",
    "# <  aplica one hot encoding y evita la trampa de las variables ficticias encodifica los datos y evita la trampa de las variables ficticias >\n",
    "# Aplicar One-Hot-Enconding a features\n",
    "data_ohe = pd.get_dummies(data, drop_first = True)\n",
    "\n",
    "# Separa target y features\n",
    "target = data_ohe['Arrival Delay']\n",
    "features = data_ohe.drop(['Arrival Delay'], axis=1)\n",
    "\n",
    "# Dividir en entrenamiento y validacion\n",
    "features_train, features_valid, target_train, target_valid = train_test_split(\n",
    "    features, target, test_size=0.25, random_state=12345\n",
    ")\n",
    "\n",
    "# Aleinea columnas\n",
    "features_valid = features_valid.reindex(columns = features_train.columns, fill_value= 0)\n",
    "\n",
    "# Escala caracteristicas numericas\n",
    "numeric = ['Day', 'Day Of Week', 'Origin Airport Delay Rate',\n",
    "       'Destination Airport Delay Rate', 'Scheduled Time', 'Distance',\n",
    "       'Scheduled Departure Hour', 'Scheduled Departure Minute']\n",
    "\n",
    "# Estandariza caracteristicas numericas\n",
    "scaler = StandardScaler()\n",
    "scaler.fit(features_train[numeric])\n",
    "features_train[numeric] = scaler.transform(features_train[numeric])\n",
    "features_valid[numeric] = scaler.transform(features_valid[numeric])\n",
    "\n",
    "print(features_train.shape)\n",
    "print(features_valid.shape)\n",
    "\n",
    "#(58431, 22)\n",
    "#(19478, 22)\n",
    "\n",
    "#Los datos están preparados.\n"
   ]
  }
 ],
 "metadata": {
  "kernelspec": {
   "display_name": "machine_learning_env",
   "language": "python",
   "name": "python3"
  },
  "language_info": {
   "name": "python",
   "version": "3.12.9"
  }
 },
 "nbformat": 4,
 "nbformat_minor": 5
}
