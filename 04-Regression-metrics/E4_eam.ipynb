{
 "cells": [
  {
   "attachments": {
    "eam.png": {
     "image/png": "[encoded data removed]"
    },
    "error-absoluto-medio.png": {
     "image/png": "[encoded data removed]"
    }
   },
   "cell_type": "markdown",
   "id": "fd6d507f",
   "metadata": {},
   "source": [
    "Interpretación de EAM\n",
    "\n",
    "Cuando calculamos el Error Cuadrático Medio (ECM), a menudo usamos la media de los valores observados como una constante. \n",
    "\n",
    "¿Podemos aplicar el mismo principio para el EAM?\n",
    "\n",
    "En un modelo constante, el objetivo es seleccionar un valor que minimice el EAM de todas las predicciones. Necesitamos encontrar un valor constante, a, que resulte en el EAM más bajo posible. La fórmula para el EAM es la siguiente: \n",
    "\n",
    "![eam.png](attachment:eam.png)\n",
    "\n",
    "Curiosamente, el valor que minimiza el EAM es la mediana de los valores objetivo. \n",
    "\n",
    "Ten en cuenta que en los ejercicios nos referiremos a los términos EAM y ECM por sus términos en inglés: MAE y MSE, respectivamente."
   ]
  },
  {
   "cell_type": "markdown",
   "id": "f63358a7",
   "metadata": {},
   "source": [
    "Calcula el EAM utilizando la mediana como valor constante. El cálculo EAM para la regresión lineal se encuentra en el precódigo. Compara los valores.\n",
    "\n",
    "Muestra el resultado en la pantalla.\n",
    "\n",
    "Haz una predicción de todas las respuestas, usando la mediana de la siguiente manera:\n",
    "\n",
    "predicted_valid = pd.Series(target_train.median(), index=target_valid.index)"
   ]
  },
  {
   "cell_type": "code",
   "execution_count": null,
   "id": "e4131202",
   "metadata": {},
   "outputs": [],
   "source": [
    "import pandas as pd\n",
    "from sklearn.model_selection import train_test_split\n",
    "from sklearn.linear_model import LinearRegression\n",
    "from sklearn.metrics import mean_absolute_error\n",
    "\n",
    "data = pd.read_csv('/datasets/flights_preprocessed.csv')\n",
    "\n",
    "target = data['Arrival Delay']\n",
    "features = data.drop(['Arrival Delay'], axis=1)\n",
    "features_train, features_valid, target_train, target_valid = train_test_split(\n",
    "    features, target, test_size=0.25, random_state=12345\n",
    ")\n",
    "\n",
    "model = LinearRegression()\n",
    "model.fit(features_train, target_train)\n",
    "predicted_valid = model.predict(features_valid)\n",
    "\n",
    "print('Linear Regression')\n",
    "print(mean_absolute_error(target_valid, predicted_valid))\n",
    "print()\n",
    "\n",
    "predicted_valid = pd.Series(target_train.median(), index=target_valid.index)\n",
    "# < escribe el código aquí >\n",
    "print('Median')\n",
    "print(mean_absolute_error(target_valid, predicted_valid))\n",
    "\n",
    "# Linear Regression\n",
    "# 27.436250978085834\n",
    "\n",
    "# Median\n",
    "# 27.22281548413595\n"
   ]
  },
  {
   "cell_type": "markdown",
   "id": "b99c8ceb",
   "metadata": {},
   "source": [
    "La diferencia es de 1/5 minutos o 12 segundos. Ni siquiera lo notarías. Nuestro modelo lineal no fue muy útil."
   ]
  },
  {
   "cell_type": "markdown",
   "id": "cce3a2d0",
   "metadata": {},
   "source": [
    "Minimización de EAM\n",
    "\n",
    "Intentemos minimizar el valor EAM.\n",
    "\n",
    "Construye un modelo con EAM = 26.2: un minuto menos que la mediana. No es necesario pelear por las décimas.\n",
    "\n",
    "Ten en cuenta que en los ejercicios nos referiremos al EAM por su término inglés: MAE."
   ]
  },
  {
   "cell_type": "markdown",
   "id": "d417650e",
   "metadata": {},
   "source": [
    "Ejercicio\n",
    "\n",
    "Construye un modelo con un valor EAM menor o igual a 26.2.\n",
    "\n",
    "En la quinta lección de este capítulo ya aprendimos que RandomForestRegressor es una buena alternativa para la regresión lineal. Emplea la configuración de modelo que usaste en la lección 5 y verifica a cuál EAM puede llevar.\n",
    "\n",
    "Entrena un modelo de regresión de bosque aleatorio con una depth de al menos 8,  n_estimators de al menos 50 y random_seed=12345. Puedes definir cualquier otra configuración que lleve al valor de la métrica objetivo."
   ]
  },
  {
   "cell_type": "code",
   "execution_count": null,
   "id": "58da08d1",
   "metadata": {},
   "outputs": [],
   "source": [
    "import pandas as pd\n",
    "from sklearn.model_selection import train_test_split\n",
    "from sklearn.ensemble import RandomForestRegressor\n",
    "from sklearn.metrics import mean_absolute_error\n",
    "\n",
    "data = pd.read_csv(\"/datasets/flights_preprocessed.csv\")\n",
    "\n",
    "target = data['Arrival Delay']\n",
    "features = data.drop(['Arrival Delay'], axis=1)\n",
    "features_train, features_valid, target_train, target_valid = train_test_split(\n",
    "    features, target, test_size=0.25, random_state=12345\n",
    ")\n",
    "\n",
    "model = RandomForestRegressor(n_estimators=80, max_depth = 10, random_state=12345) # < escribe el código aquí >\n",
    "\n",
    "model.fit(features_train, target_train)\n",
    "predictions_train = model.predict(features_train)\n",
    "predictions_valid = model.predict(features_valid)\n",
    "\n",
    "print(\"Configuración del modelo actual lograda:\")\n",
    "print(\n",
    "    \"Valor EAM en un conjunto de entrenamiento: \",\n",
    "    mean_absolute_error(target_train, predictions_train),\n",
    ")\n",
    "print(\n",
    "    \"Valor EAM en un conjunto de validación: \",\n",
    "    mean_absolute_error(target_valid, predictions_valid),\n",
    ")\n",
    "\n",
    "# Configuración del modelo actual lograda:\n",
    "# Valor EAM en un conjunto de entrenamiento:  24.14301716954349\n",
    "# Valor EAM en un conjunto de validación:  25.596138695542784\n",
    "\n"
   ]
  }
 ],
 "metadata": {
  "kernelspec": {
   "display_name": "machine_learning_env",
   "language": "python",
   "name": "python3"
  },
  "language_info": {
   "name": "python",
   "version": "3.12.9"
  }
 },
 "nbformat": 4,
 "nbformat_minor": 5
}
