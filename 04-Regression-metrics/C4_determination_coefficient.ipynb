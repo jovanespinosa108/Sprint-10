{
 "cells": [
  {
   "attachments": {
    "r-squered.png": {
     "image/png": "[encoded data removed]"
    }
   },
   "cell_type": "markdown",
   "id": "19117411",
   "metadata": {},
   "source": [
    "Coeficiente de determinación\n",
    "\n",
    "Para evitar comparar constantemente el modelo con la media, introduzcamos una nueva métrica. Esta se expresa en valores relativos, no en absolutos.\n",
    "\n",
    "El coeficiente de determinación o la métrica R2 (R-squared) divide el  ECM del modelo entre el ECM de la media y luego resta el valor obtenido de uno. Si la métrica aumenta, la calidad del modelo también mejora.\n",
    "\n",
    "R2 se calcula de la siguiente manera:\n",
    "\n",
    "![r-squered.png](attachment:r-squered.png)\n",
    "\n",
    "- R2 es igual a uno solo si el ECM del modelo es cero. Dicho modelo predeciría perfectamente todas las respuestas.\n",
    "- R2 es cero: el modelo funciona tan bien como la media.\n",
    "- Cuando R2 es negativo, peor que usar solo la media para predecir.\n",
    "- R2 no puede tener valores mayores a uno porque esto indicaría que el modelo tiene un poder predictivo negativo, lo cual no es posible bajo la definición estándar de esta métrica."
   ]
  },
  {
   "cell_type": "markdown",
   "id": "7e74b4d9",
   "metadata": {},
   "source": [
    "Ejercicio\n",
    "\n",
    "Calcula el valor R2 para la regresión lineal. Busca la función adecuada en la documentación de sklearn.metrics.  Impórtala.\n",
    "\n",
    "Muestra el resultado (en precódigo).\n",
    "\n",
    "La función se llama r2_score()."
   ]
  },
  {
   "cell_type": "code",
   "execution_count": null,
   "id": "ead2653d",
   "metadata": {},
   "outputs": [],
   "source": [
    "import pandas as pd\n",
    "from sklearn.model_selection import train_test_split\n",
    "from sklearn.linear_model import LinearRegression\n",
    "from sklearn.metrics import r2_score# < escribe el código aquí >\n",
    "\n",
    "data = pd.read_csv('/datasets/flights_preprocessed.csv')\n",
    "\n",
    "target = data['Arrival Delay']\n",
    "features = data.drop(['Arrival Delay'], axis=1)\n",
    "features_train, features_valid, target_train, target_valid = train_test_split(\n",
    "    features, target, test_size=0.25, random_state=12345\n",
    ")\n",
    "\n",
    "model = LinearRegression()\n",
    "model.fit(features_train, target_train)\n",
    "predicted_valid = model.predict(features_valid)\n",
    "\n",
    "print('R2 =', r2_score(target_valid, predicted_valid))\n",
    "\n",
    "# R2 = 0.09710497146204988"
   ]
  },
  {
   "cell_type": "markdown",
   "id": "a2fa67c1",
   "metadata": {},
   "source": [
    "Maximización de R2\n",
    "\n",
    "R2 es más fácil de entender que la RECM. Quedémonos con R2 y escojamos el mejor modelo.\n",
    "\n",
    "Crea un modelo con el valor R2 más alto posible. Para resolver el ejercicio necesitamos que sea al menos 0.14.\n",
    "\n",
    "Aquí tienes algunas sugerencias:\n",
    "\n",
    "1. Encuentra el R2 del modelo usando la función score(). Esta es la métrica predeterminada para los modelos de regresión en sklearn.\n",
    "\n",
    "model = LinearRegression()\n",
    "\n",
    "model.fit(features_train, target_train)\n",
    "\n",
    "print(model.score(features_valid, target_valid))\n",
    "\n",
    "0.09710497146204988\n",
    "\n",
    "Elige la profundidad correcta del árbol. Comencemos con una pequeña cantidad de árboles. El número de árboles es proporcional a la calidad del modelo, pero también a la duración del entrenamiento, así que tenlo en mente.\n",
    "\n",
    "for depth in range(1, 16, 1):\n",
    "\n",
    "    model = RandomForestRegressor(n_estimators=20, \n",
    "    \n",
    "    max_depth=depth, random_state=12345)\n",
    "\n",
    "    model.fit(features_train, target_train)\n",
    "\n",
    "    # < escribe el código aquí >\n",
    "\n",
    "Luego inicia el entrenamiento de bosque aleatorio con una gran cantidad de árboles:\n",
    "\n",
    "model = RandomForestRegressor(n_estimators=100, \n",
    "    max_depth=# < escribe el código aquí>, random_state=12345)\n",
    "\n",
    "model.fit(features_train, target_train)\n",
    "\n",
    "print(model.score(features_train, target_train))\n",
    "\n",
    "print(model.score(features_valid, target_valid))\n",
    "\n",
    "Entrenar un bosque de tal escala puede llevar unos minutos. En Jupyter Notebook, el tiempo de ejecución de la celda se mide con el comando %%time:\n",
    "\n",
    "%%time\n",
    "\n",
    "model = RandomForestRegressor(n_estimators=100, random_state=12345)\n",
    "\n",
    "model.fit(features_train, target_train)\n",
    "\n",
    "CPU times: user 48 s, sys: 928 ms, total: 48.9 s\n",
    "\n",
    "Wall time: 54.9 s\n",
    "\n",
    "El último texto Wall time se refiere al tiempo total transcurrido, medido como lo haría un reloj de pared, lo cual es lo que buscamos medir. "
   ]
  },
  {
   "cell_type": "markdown",
   "id": "0a05b426",
   "metadata": {},
   "source": [
    "Crea un modelo con un valor R2 de al menos 0.14. No escales las características. Usa estos datos: flights_preprocessed.csv\n",
    "\n",
    "Divide los datos en un conjunto de entrenamiento y un conjunto de validación para elegir el mejor modelo.\n",
    "\n",
    "Antes de enviar el modelo, asegúrate de haberlo entrenado en todo el conjunto de datos. Entrena un bosque aleatorio con profundidad = 11 y número de árboles = 100."
   ]
  },
  {
   "cell_type": "code",
   "execution_count": null,
   "id": "63f3f92a",
   "metadata": {},
   "outputs": [],
   "source": [
    "import pandas as pd\n",
    "from sklearn.model_selection import train_test_split\n",
    "from sklearn.ensemble import RandomForestRegressor\n",
    "from sklearn.metrics import mean_absolute_error\n",
    "\n",
    "data = pd.read_csv(\"/datasets/flights_preprocessed.csv\")\n",
    "\n",
    "target = data[\"Arrival Delay\"]\n",
    "features = data.drop([\"Arrival Delay\"], axis=1)\n",
    "features_train, features_valid, target_train, target_valid = train_test_split(\n",
    "    features, target, test_size=0.25, random_state=12345\n",
    ")\n",
    "\n",
    "model = RandomForestRegressor(n_estimators=100, max_depth = 11, random_state=12345)# < escribe el código aquí >\n",
    "\n",
    "model.fit(features_train, target_train)\n",
    "\n",
    "print(\"Configuración del modelo actual lograda:\")\n",
    "print(\"Valor R2 en un conjunto de entrenamiento\", model.score(features_train, target_train))\n",
    "print(\"Valor R2 en un conjunto de validación:\", model.score(features_valid, target_valid))\n",
    "\n",
    "# Configuración del modelo actual lograda:\n",
    "# Valor R2 en un conjunto de entrenamiento 0.3784551354930391\n",
    "# Valor R2 en un conjunto de validación: 0.16447073084035702\n"
   ]
  }
 ],
 "metadata": {
  "kernelspec": {
   "display_name": "machine_learning_env",
   "language": "python",
   "name": "python3"
  },
  "language_info": {
   "name": "python",
   "version": "3.12.9"
  }
 },
 "nbformat": 4,
 "nbformat_minor": 5
}
