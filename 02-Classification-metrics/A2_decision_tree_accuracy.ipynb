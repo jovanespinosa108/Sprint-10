{
 "cells": [
  {
   "cell_type": "markdown",
   "id": "070d998a",
   "metadata": {},
   "source": [
    "Introducción\n",
    "\n",
    "Los datos están listos, así que es hora de elegir una métrica.\n",
    "\n",
    "Empezarás por:\n",
    "\n",
    "Averiguar cuándo no funciona la métrica de exactitud (accuracy).\n",
    "Aprender a trazar una matriz de confusión.\n",
    "Trabajar con nuevas métricas: precisión, recall y valor F1."
   ]
  },
  {
   "cell_type": "markdown",
   "id": "d39cb445",
   "metadata": {},
   "source": [
    "Exactitud para el árbol de decisión\n",
    "\n",
    "Primero, debemos verificar si la métrica de exactitud es adecuada para la tarea. Entrenemos al modelo y veamos.\n",
    "\n",
    "Podemos calcular la exactitud del modelo con la función accuracy_score() . Esta toma respuestas y predicciones correctas y devuelve la proporción de respuestas clasificadas correctamente.\n",
    "\n",
    "Hemos guardado el conjunto de datos con las funciones preparadas en el archivo travel_insurance_us_preprocessed.csv.\n",
    "\n",
    "Entrena el modelo de árbol de decisión calculando el valor de exactitud en el conjunto de validación. Para hacerlo, declara la variable pre"
   ]
  },
  {
   "cell_type": "markdown",
   "id": "6824ad8b",
   "metadata": {},
   "source": [
    "Ejercicio\n",
    "\n",
    "Entrena el modelo de árbol de decisión calculando el valor de exactitud en el conjunto de validación. Para hacerlo, declara la variable predicted_valid, luego guarda el resultado en la variable accuracy_valid.Especifica random_state=12345. Muéstrala en la pantalla.\n",
    "\n",
    "Completa el código:\n",
    "\n",
    "#... (Carga y división de datos) ...\n",
    "\n",
    "model = DecisionTreeClassifier(random_state=12345)\n",
    "model.fit(features_train, target_train)\n",
    "predicted_valid = #< escribe el código aquí >\n",
    "\n",
    "accuracy_valid = < escribe el código aquí >\n",
    "\n",
    "print(accuracy_valid)"
   ]
  },
  {
   "cell_type": "code",
   "execution_count": null,
   "id": "fa1fd31f",
   "metadata": {},
   "outputs": [],
   "source": [
    "import pandas as pd\n",
    "from sklearn.tree import DecisionTreeClassifier\n",
    "from sklearn.metrics import accuracy_score\n",
    "from sklearn.model_selection import train_test_split\n",
    "\n",
    "data = pd.read_csv('/datasets/travel_insurance_us_preprocessed.csv')\n",
    "\n",
    "target = data['Claim']\n",
    "features = data.drop('Claim', axis=1)\n",
    "features_train, features_valid, target_train, target_valid = train_test_split(\n",
    "    features, target, test_size=0.25, random_state=12345\n",
    ")\n",
    "\n",
    "model = DecisionTreeClassifier(random_state=12345)\n",
    "model.fit(features_train, target_train)\n",
    "predicted_valid = model.predict(features_valid)\n",
    "\n",
    "accuracy_valid = accuracy_score(target_valid, predicted_valid)\n",
    "\n",
    "print(accuracy_valid)\n",
    "\n",
    "# output: 0.9745756020529017"
   ]
  }
 ],
 "metadata": {
  "kernelspec": {
   "display_name": "machine_learning_env",
   "language": "python",
   "name": "python3"
  },
  "language_info": {
   "name": "python",
   "version": "3.12.9"
  }
 },
 "nbformat": 4,
 "nbformat_minor": 5
}
