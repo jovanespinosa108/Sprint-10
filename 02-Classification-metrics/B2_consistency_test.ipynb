{
 "cells": [
  {
   "cell_type": "markdown",
   "id": "ba12fe92",
   "metadata": {},
   "source": [
    "### Prueba de consistencia\n",
    "\n",
    "La proporción de respuestas correctas es del 97%. ¿Es suficiente? Comparemos con la variable objetivo.\n",
    "\n",
    "Para evaluar la cordura del modelo, verifiquemos con qué frecuencia la variable objetivo contiene la clase \"1\" o \"0\". El número de valores únicos se calcula utilizando el método value_counts(), que agrupa exactamente los mismos valores."
   ]
  },
  {
   "cell_type": "markdown",
   "id": "6d6329b8",
   "metadata": {},
   "source": [
    "Ejercicio 1\n",
    "\n",
    "Para contar clases en la característica objetivo, utiliza el método value_counts(). Haz las frecuencias relativas (de 0 a 1). La documentación de Pandas te ayudará a hacerlo.\n",
    "\n",
    "Guarda los valores en la variable class_frequency. Muéstralos en pantalla\n",
    "\n",
    "Usa el método plot() con el argumento kind='bar'' para trazar un diagrama."
   ]
  },
  {
   "cell_type": "code",
   "execution_count": null,
   "id": "a02bb40c",
   "metadata": {},
   "outputs": [],
   "source": [
    "import pandas as pd\n",
    "\n",
    "data = pd.read_csv('/datasets/travel_insurance_us_preprocessed.csv')\n",
    "\n",
    "# < escribe el código aquí  >\n",
    "class_frequency = data['Claim'].value_counts(normalize=True)\n",
    "\n",
    "print(class_frequency)\n",
    "class_frequency.plot(kind='bar')\n",
    "\n",
    "#0    0.985136\n",
    "#1    0.014864"
   ]
  },
  {
   "cell_type": "markdown",
   "id": "84351ba5",
   "metadata": {},
   "source": [
    "Es correcto!\n",
    "\n",
    "¡Que diferencia! Pero las estadísticas no mienten: solo el 1% de los clientes presentan una queja."
   ]
  },
  {
   "cell_type": "markdown",
   "id": "5030a835",
   "metadata": {},
   "source": [
    "2. Analiza las frecuencias de clase de las predicciones del árbol de decisión (la variable predicted_valid).\n",
    "\n",
    "De manera similar:\n",
    "\n",
    "Aplica el método value_counts(). Relativiza las frecuencias.\n",
    "Guarda los valores en la variable class_frequency. Muéstralos en pantalla.\n",
    "Usa el método plot() con el argumento kind='bar' para trazar un diagrama."
   ]
  },
  {
   "cell_type": "code",
   "execution_count": null,
   "id": "d8d7bfe3",
   "metadata": {},
   "outputs": [],
   "source": [
    "import pandas as pd\n",
    "from sklearn.tree import DecisionTreeClassifier\n",
    "from sklearn.metrics import accuracy_score\n",
    "from sklearn.model_selection import train_test_split\n",
    "\n",
    "data = pd.read_csv('/datasets/travel_insurance_us_preprocessed.csv')\n",
    "\n",
    "target = data['Claim']\n",
    "features = data.drop('Claim', axis=1)\n",
    "features_train, features_valid, target_train, target_valid = train_test_split(\n",
    "    features, target, test_size=0.25, random_state=12345\n",
    ")\n",
    "\n",
    "model = DecisionTreeClassifier(random_state=12345)\n",
    "model.fit(features_train, target_train)\n",
    "\n",
    "#para hacer que value_counts() funcione,\n",
    "# convertimos los resultados a pd.Series\n",
    "predicted_valid = pd.Series(model.predict(features_valid))\n",
    "\n",
    "# <escribe el código aquí>\n",
    "class_frequency = predicted_valid.value_counts(normalize=True)\n",
    "\n",
    "print(class_frequency)\n",
    "\n",
    "class_frequency.plot(kind='bar')\n",
    "\n",
    "#0    0.986024\n",
    "#1    0.013976"
   ]
  },
  {
   "cell_type": "markdown",
   "id": "b12b2dac",
   "metadata": {},
   "source": [
    "Es correcto!\n",
    "\n",
    "Nuestro modelo de árbol de decisión produce proporciones de clases que son similares a las que se observan simplemente eligiendo la clase más común en los datos, lo cual se aprecia en la primera parte del ejercicio donde analizamos la frecuencia de las clases en la variable objetivo. Para verificar si el modelo está realmente aprendiendo patrones útiles, es crucial compararlo con un modelo constante en una prueba de cordura."
   ]
  },
  {
   "cell_type": "markdown",
   "id": "a400b75a",
   "metadata": {},
   "source": [
    "3. Crea un modelo constante: predice la clase \"0\" para cualquier observación. Guarda sus predicciones en la variable target_pred_constant. Muestra en pantalla el valor de accuracy."
   ]
  },
  {
   "cell_type": "code",
   "execution_count": null,
   "id": "2db8ccee",
   "metadata": {},
   "outputs": [],
   "source": [
    "import pandas as pd\n",
    "from sklearn.metrics import accuracy_score\n",
    "\n",
    "data = pd.read_csv('/datasets/travel_insurance_us_preprocessed.csv')\n",
    "\n",
    "target = data['Claim']\n",
    "features = data.drop('Claim', axis=1)\n",
    "\n",
    "# <escribe el código aquí >\n",
    "target_pred_constant = pd.Series(0, index=target.index)\n",
    "\n",
    "print(accuracy_score(target, target_pred_constant))\n",
    "\n",
    "#0.9851362021318595"
   ]
  },
  {
   "cell_type": "markdown",
   "id": "cf7c89e3",
   "metadata": {},
   "source": [
    "Es correcto!\n",
    "\n",
    "\"¡Qué gran modelo! ¡Podemos enviarlo a producción!\" Esa suele ser la primera reacción, hasta que descubres que no pasa la prueba de cordura porque sus predicciones no son mejores que las de un modelo constante que siempre elige la clase más frecuente. Este resultado indica que el modelo no está capturando patrones significativos en los datos, lo cual es crucial para un desempeño fiable. ¿Eso significa que es hora de rendirse?"
   ]
  }
 ],
 "metadata": {
  "kernelspec": {
   "display_name": "machine_learning_env",
   "language": "python",
   "name": "python3"
  },
  "language_info": {
   "name": "python",
   "version": "3.12.9"
  }
 },
 "nbformat": 4,
 "nbformat_minor": 5
}
