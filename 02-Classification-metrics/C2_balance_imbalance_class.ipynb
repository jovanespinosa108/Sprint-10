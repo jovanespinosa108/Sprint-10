{
 "cells": [
  {
   "cell_type": "markdown",
   "id": "9bd4e25f",
   "metadata": {},
   "source": [
    "### Equilibrio y desequilibrio de las clases\n",
    "\n",
    "La exactitud del árbol de decisión es casi la misma que la del modelo constante. ¿Por qué pasa eso y qué debemos hacer al respecto?\n",
    "\n",
    "Aunque la proporción de predicciones correctas es cercana al 100 %, todavía no sabemos si el cliente hará una reclamación al seguro. Hay un fuerte desequilibrio de clases en nuestro problema, lo que afecta cómo se entrena el modelo.\n",
    "\n",
    "Las clases están desequilibradas cuando su proporción está lejos de 1:1. El equilibrio de clases se observa si su número es aproximadamente igual."
   ]
  },
  {
   "cell_type": "markdown",
   "id": "395187b1",
   "metadata": {},
   "source": [
    "La exactitud no evalúa bien el modelo en un escenario de fuerte desequilibrio. ¡Necesitamos una nueva métrica! Pero primero debemos repasar algunas distinciones importantes.\n",
    "\n",
    "Una clase con la etiqueta \"1\" se llama positiva y una clase con la etiqueta \"0\" se llama negativa.\n",
    "\n",
    "Si combinamos estas respuestas con predicciones, obtendremos la siguiente división:\n",
    "\n",
    "- Respuestas de verdadero positivo (VP) y verdadero negativo (VN)\n",
    "- Respuestas de falso positivo (FP) y falso negativo (FN)\n",
    "\n",
    "Entonces, las características \"positivo\" y \"negativo\" se refieren a una predicción, y \"verdadero\" y \"falso\" se refieren a su exactitud.\n",
    "\n",
    "En las próximas lecciones, veremos cómo podemos calcular estos cuatro valores posibles."
   ]
  },
  {
   "cell_type": "markdown",
   "id": "ed80611f",
   "metadata": {},
   "source": [
    "### Respuestas verdaderas positivas\n",
    "\n",
    "Podemos utilizar diferentes métricas para gestionar el desequilibrio y clasificar las respuestas con mayor exactitud.\n",
    "\n",
    "¿Qué significa una respuesta verdadera positiva (VP)? En este caso, el modelo etiquetó una observación como 1 y su valor real también es 1.\n",
    "\n",
    "En nuestro ejercicio, la respuesta Verdadero Positivo equivale al número de asegurados que:\n",
    "\n",
    "- pidió compensación, de acuerdo con la predicción del modelo;\n",
    "- sí hizo un reclamo de seguro.\n",
    "\n",
    "Aquí hay un ejemplo de predicciones frente a respuestas correctas. Cuenta el número de respuestas VP y muestra el resultado en la pantalla.\n",
    "\n",
    "debes agregar condiciones en una secuencia: combínalas con un operador lógico y encuentra la suma de los valores. Como sabes, el operador and en pandas se escribe usando el símbolo &:\n",
    "\n",
    "((target == 1) & (# < escribe el código aquí >)).sum()"
   ]
  },
  {
   "cell_type": "code",
   "execution_count": 6,
   "id": "146ee20c",
   "metadata": {},
   "outputs": [
    {
     "name": "stdout",
     "output_type": "stream",
     "text": [
      "5\n"
     ]
    }
   ],
   "source": [
    "import pandas as pd\n",
    "\n",
    "target = pd.Series([1, 0, 0, 1, 1, 0, 1, 0, 1, 1, 0, 0, 0, 1])\n",
    "predictions = pd.Series([1, 1, 0, 0, 1, 1, 1, 0, 0, 1, 0, 1, 0, 1])\n",
    "\n",
    "# <  escribe el código aquí >\n",
    "vp_answers = ((target == 1) & (predictions == 1)).sum()\n",
    "\n",
    "print(vp_answers)\n",
    "\n"
   ]
  },
  {
   "cell_type": "markdown",
   "id": "c7565924",
   "metadata": {},
   "source": [
    "¡Es correcto!\n",
    "\n",
    "¡Conociste a Verdadero Positivo, el líder del cuarteto! Intenta no confundirlo. Faltan otros tres.\n",
    "\n",
    "Esto te da una Serie booleana que es True solo cuando ambos son 1.\n",
    "\n",
    "Si quieres contar cuántos VP hay, usa .sum(), porque True cuenta como 1 y False como 0."
   ]
  },
  {
   "cell_type": "markdown",
   "id": "1ad94f38",
   "metadata": {},
   "source": [
    "Respuestas verdaderas negativas\n",
    "\n",
    "Si los valores de clase previstos y reales son negativos, la respuesta es Verdadero Negativo.\n",
    "\n",
    "En nuestro ejercicio, la respuesta Verdadero Negativo (VN) es el número de personas aseguradas que:\n",
    "\n",
    "de acuerdo con la predicción del modelo, no solicitaron un pago\n",
    "en realidad no solicitaron la compensación del seguro.\n",
    "\n",
    "Cuenta el número de respuestas VN tal como lo hiciste en el ejercicio anterior. Muestra los resultados en la pantalla."
   ]
  },
  {
   "cell_type": "code",
   "execution_count": 7,
   "id": "8ce42425",
   "metadata": {},
   "outputs": [
    {
     "name": "stdout",
     "output_type": "stream",
     "text": [
      "4\n"
     ]
    }
   ],
   "source": [
    "import pandas as pd\n",
    "\n",
    "target = pd.Series([1, 0, 0, 1, 1, 0, 1, 0, 1, 1, 0, 0, 0, 1])\n",
    "predictions = pd.Series([1, 1, 0, 0, 1, 1, 1, 0, 0, 1, 0, 1, 0, 1])\n",
    "\n",
    "# < escribe el código aquí >\n",
    "vn_answers = ((target == 0) & (predictions == 0)).sum()\n",
    "\n",
    "print(vn_answers)"
   ]
  },
  {
   "cell_type": "markdown",
   "id": "fb99f202",
   "metadata": {},
   "source": [
    "Es correcto!\n",
    "\n",
    "Imagina cambiar a los miembros del cuarteto. Intenta no confundirlos por los Cuatro Jinetes del Apocalipsis. Este definitivamente montaría un caballo blanco. Y su jinete, Verdadero Negativo."
   ]
  },
  {
   "cell_type": "markdown",
   "id": "f62d5a4d",
   "metadata": {},
   "source": [
    "Respuestas falsas positivas\n",
    "\n",
    "Los algoritmos son como los humanos: cometen errores. Estos errores se dividen en dos categorías.\n",
    "\n",
    "El primer tipo de error es un falso positivo (FP). Ocurre cuando el modelo predijo \"1\", pero el valor real de la clase es \"0\".\n",
    "\n",
    "En nuestra tarea, una respuesta Falso Positivo es el número de personas aseguradas que:\n",
    "\n",
    "según la predicción del modelo, solicitaron un pago, pero\n",
    "en realidad, no hicieron un reclamo.\n",
    "\n",
    "Encuentra el número de respuestas FP de la misma manera que encontraste las respuestas VN en la tarea anterior. Muestra los resultados en la pantalla.\n"
   ]
  },
  {
   "cell_type": "code",
   "execution_count": 8,
   "id": "b373ce80",
   "metadata": {},
   "outputs": [
    {
     "name": "stdout",
     "output_type": "stream",
     "text": [
      "3\n"
     ]
    }
   ],
   "source": [
    "import pandas as pd\n",
    "\n",
    "target = pd.Series([1, 0, 0, 1, 1, 0, 1, 0, 1, 1, 0, 0, 0, 1])\n",
    "predictions = pd.Series([1, 1, 0, 0, 1, 1, 1, 0, 0, 1, 0, 1, 0, 1])\n",
    "\n",
    "# <  escribe el código aquí  >\n",
    "fp_answers = ((target == 0) & (predictions == 1)).sum()\n",
    "\n",
    "print(fp_answers)"
   ]
  },
  {
   "cell_type": "markdown",
   "id": "6e39fc29",
   "metadata": {},
   "source": [
    "¡Es correcto!\n",
    "\n",
    "Similar a un falso profeta, el Falso Positivo es... Espera, esto no es la escuela dominical. ¡Muy bien! Al igual que el Verdadero Positivo, el Falso Positivo es positivo, pero no es verdadero."
   ]
  },
  {
   "cell_type": "markdown",
   "id": "8c45e4d1",
   "metadata": {},
   "source": [
    "Respuestas falsas negativas\n",
    "\n",
    "El segundo tipo de error son las respuestas Falsas Negativas (FN).\n",
    "Las respuestas falsas negativas ocurren cuando el modelo predice \"0\", pero el valor real de la clase es \"1\".\n",
    "\n",
    "En nuestra tarea, una respuesta de Falso Negativo es el número de personas aseguradas que:\n",
    "\n",
    "- según la predicción del modelo, no solicitaron un pago, (prediccion = 0) pero\n",
    "- en realidad, hicieron un reclamo (target = 1).\n",
    "\n",
    "Cuenta el número de respuestas FN. Muestra los resultados en la pantalla.\n"
   ]
  },
  {
   "cell_type": "code",
   "execution_count": 9,
   "id": "60328b7d",
   "metadata": {},
   "outputs": [
    {
     "name": "stdout",
     "output_type": "stream",
     "text": [
      "2\n"
     ]
    }
   ],
   "source": [
    "import pandas as pd\n",
    "\n",
    "target = pd.Series([1, 0, 0, 1, 1, 0, 1, 0, 1, 1, 0, 0, 0, 1])\n",
    "predictions = pd.Series([1, 1, 0, 0, 1, 1, 1, 0, 0, 1, 0, 1, 0, 1])\n",
    "\n",
    "# < escribe el código aquí >\n",
    "fn_answers = ((target == 1) & (predictions == 0)).sum()\n",
    "\n",
    "print(fn_answers)\n"
   ]
  },
  {
   "cell_type": "markdown",
   "id": "3621566b",
   "metadata": {},
   "source": [
    "¡Es correcto!\n",
    "\n",
    "Tanto Falso como Negativo suenan negativos, pero juntos significan positivo. Y es maravilloso. Camina sobre las huellas de lo Falso y lo Negativo y encuentra el bien en los dos."
   ]
  }
 ],
 "metadata": {
  "kernelspec": {
   "display_name": "machine_learning_env",
   "language": "python",
   "name": "python3"
  },
  "language_info": {
   "codemirror_mode": {
    "name": "ipython",
    "version": 3
   },
   "file_extension": ".py",
   "mimetype": "text/x-python",
   "name": "python",
   "nbconvert_exporter": "python",
   "pygments_lexer": "ipython3",
   "version": "3.12.9"
  }
 },
 "nbformat": 4,
 "nbformat_minor": 5
}
