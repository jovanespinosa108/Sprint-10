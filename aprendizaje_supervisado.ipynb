{
 "cells": [
  {
   "cell_type": "markdown",
   "id": "ad698e10",
   "metadata": {},
   "source": [
    "Introduccion\n",
    "\n",
    "1. Aprendizaje supervisado\n",
    "\n",
    "Sigamos explorando el aprendizaje supervisado.\n",
    "\n",
    "Ya sabes sobre las características y el objetivo, puedes distinguir la clasificación de la regresión y puedes evaluar la calidad de un modelo.\n",
    "\n",
    "En este curso aprenderás nuevas métricas y los casos en los que puedes usarlas. Aprenderás a ajustar los modelos de machine learning y mejorar las métricas.\n",
    "\n",
    "Estructura del curso\n",
    "\n",
    "Tres capítulos de este curso están dedicados a la clasificación y el último se centra en la regresión.\n",
    "\n",
    "En los primeros tres capítulos aprenderemos a preparar características para el análisis mediante la transformación de características categóricas y la mejora de características numéricas.\n",
    "\n",
    "Luego construiremos un modelo y veremos si la métrica de exactitud es apropiada para su evaluación. También trabajaremos con nuevas métricas e intentaremos mejorarlas para resolver tareas de clasificación desequilibradas.\n",
    "\n",
    "En el último capítulo repasaremos diferentes métricas de regresión y sus aplicaciones.\n",
    "\n",
    "Al final del curso trabajarás en tu propio proyecto. Será un problema de clasificación donde tendrás que predecir el abandono de clientes (el porcentaje de la base de clientes de una empresa que deja de usar sus servicios por período de tiempo) para un banco. Haz clic aquí para ver la descripción del proyecto y lo que implica. \n",
    "\n",
    "Tus objetivos:\n",
    "\n",
    "- Aprender nuevas métricas de evaluación para la clasificación: precisión, recall (sensibilidad), valor F1 y AUC-ROC. Calcular sus valores utilizando las herramientas scikit-learn.\n",
    "- Resolver tareas de clasificación desequilibradas. Eso incluye ajustar los pesos de las clases y sus umbrales.\n",
    "- Aprender las nuevas métricas de evaluación para regresión: EAM y R². Calcular sus valores utilizando las herramientas scikit-learn.\n",
    "Tu enfoque para este sprint es:\n",
    "\n",
    "- Procesamiento de datos\n",
    "- SQL\n",
    "- Modelos de clasificacion\n",
    "\n",
    "¿Cuánto tiempo llevará?\n",
    "\n",
    "Este va a ser un curso difícil, con muchas fórmulas, cálculos y ejercicios prácticos. ¡Así que abróchate el cinturón y comencemos! Espera pasar entre 30 y 50 horas para completar este material, dependiendo de tus conocimientos previos y hábitos de estudio. Si sientes que te estás quedando atrás, no dudes en ponerte en contacto con nuestro equipo de orientación para informarles de esto. Como siempre, nos comprometemos a ayudarte en cada paso del camino."
   ]
  }
 ],
 "metadata": {
  "kernelspec": {
   "display_name": "machine_learning_env",
   "language": "python",
   "name": "python3"
  },
  "language_info": {
   "name": "python",
   "version": "3.12.9"
  }
 },
 "nbformat": 4,
 "nbformat_minor": 5
}
