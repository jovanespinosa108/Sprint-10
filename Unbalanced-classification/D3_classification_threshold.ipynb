{
 "cells": [
  {
   "attachments": {
    "threshold.png": {
     "image/png": "[encoded data removed]"
    }
   },
   "cell_type": "markdown",
   "id": "6a415fae",
   "metadata": {},
   "source": [
    "### Umbral de clasificación\n",
    "\n",
    "¿Qué podemos hacer para optimizar el entrenamiento de la regresión logística? Deberíamos echar un vistazo a cómo funciona internamente.\n",
    "\n",
    "Para determinar la respuesta, la regresión logística calcula la probabilidad de cada clase. Dado que solo tenemos dos clases (cero y uno), la probabilidad de la clase \"1\" es la que nos interesa. Esta probabilidad varía de cero a uno: si es mayor a 0.5, la observación se clasifica como positiva; si es menor, como negativa.\n",
    "\n",
    "El punto de corte entre clasificaciones positivas y negativas se llama umbral. Por defecto es 0.5, pero ¿qué tal si lo cambiamos?\n",
    "\n",
    "\n",
    "![threshold.png](attachment:threshold.png)\n",
    "\n",
    "\n",
    "¿Cómo afecta la reducción del umbral a la precisión y a recall (sensibilidad)?\n",
    "Respuesta. La precisión disminuirá, recall aumentará\n",
    "\n",
    "Habrá más respuestas positivas."
   ]
  },
  {
   "cell_type": "markdown",
   "id": "042bb2b7",
   "metadata": {},
   "source": [
    "Ajuste de umbral\n",
    "\n",
    "A medida que cambiamos el valor del umbral, también veremos cómo cambian nuestras métricas.\n",
    "En sklearn, esto se puede investigar utilizando la función predict_proba(), que proporciona la probabilidad de que cada observación pertenezca a cada clase posible. Esta función toma las características de las observaciones como entrada y devuelve un array de probabilidades para cada clase.\n",
    "\n",
    "probabilities = model.predict_proba(features)\n",
    "\n",
    "Así se verá el resultado si lo imprimimos: Este modelo genera dos probabilidades para cinco observaciones. La primera columna indica la probabilidad de clase negativa y la segunda indica la probabilidad de clase positiva (las dos probabilidades suman uno).\n",
    "\n",
    "print(probabilities)\n",
    "\n",
    "[[0.5795 0.4205]\n",
    " [0.6629 0.3371]\n",
    " [0.7313 0.2687]\n",
    " [0.6728 0.3272]\n",
    " [0.5086 0.4914]]\n",
    "\n",
    "predict_proba() también está disponible en sklearn para árboles de decisión y bosques aleatorios."
   ]
  },
  {
   "cell_type": "markdown",
   "id": "49b1577b",
   "metadata": {},
   "source": [
    "Ejercicios\n",
    "\n",
    "1. Encuentra las probabilidades de clase para la muestra de validación. Almacena los valores para las probabilidades de clase \"1\" en la variable probabilities_one_valid. Muestra en la pantalla los primeros cinco elementos de la variable (en precódigo).\n",
    "\n",
    "Usa la función predict_proba():\n",
    "\n",
    "probabilities_valid = # < escribe el código aquí>\n",
    "\n",
    "probabilities_one_valid = probabilities_valid[:, 1]"
   ]
  },
  {
   "cell_type": "code",
   "execution_count": null,
   "id": "1710eeed",
   "metadata": {},
   "outputs": [],
   "source": [
    "import pandas as pd\n",
    "from sklearn.model_selection import train_test_split\n",
    "from sklearn.linear_model import LogisticRegression\n",
    "\n",
    "data = pd.read_csv('/datasets/travel_insurance_us_preprocessed.csv')\n",
    "\n",
    "target = data['Claim']\n",
    "features = data.drop('Claim', axis=1)\n",
    "features_train, features_valid, target_train, target_valid = train_test_split(\n",
    "    features, target, test_size=0.25, random_state=12345\n",
    ")\n",
    "\n",
    "model = LogisticRegression(random_state=12345, solver='liblinear')\n",
    "model.fit(features_train, target_train)\n",
    "\n",
    "# < escribe el código aquí  >\n",
    "probabilities_valid = model.predict_proba(features_valid)\n",
    "probabilities_one_valid = probabilities_valid[:,1]\n",
    "\n",
    "print(probabilities_one_valid[:5])\n",
    "\n",
    "# [0.01855917 0.009525   0.00419783 0.00157461 0.00956259]"
   ]
  },
  {
   "cell_type": "markdown",
   "id": "6609a807",
   "metadata": {},
   "source": [
    "2. Pasa por los valores de umbral de 0 a 0.3 en intervalos de 0.02. Encuentra precisión y recall para cada valor del umbral. Muestra en pantalla los resultados (en precódigo)\n",
    "\n",
    "Para crear un bucle con el rango deseado, usamos la función arange() de la librería numpy. Al igual que la función range(), ésta itera sobre los elementos especificados del rango, pero es diferente porque funciona con números fraccionarios además de enteros.\n",
    "\n",
    "Para encontrar la clase deseada, compara los valores de probabilidad con el umbral:\n",
    "\n",
    "predicted_valid = probabilities_one_valid > threshold"
   ]
  },
  {
   "cell_type": "code",
   "execution_count": null,
   "id": "6adc5be1",
   "metadata": {},
   "outputs": [],
   "source": [
    "import pandas as pd\n",
    "import numpy as np\n",
    "from sklearn.model_selection import train_test_split\n",
    "from sklearn.linear_model import LogisticRegression\n",
    "from sklearn.metrics import precision_score, recall_score\n",
    "\n",
    "# Load data\n",
    "data = pd.read_csv('/datasets/travel_insurance_us_preprocessed.csv')\n",
    "\n",
    "# Divide features & target\n",
    "target = data['Claim']\n",
    "features = data.drop('Claim', axis=1)\n",
    "# Divide for training and validation, 75% train, 25% validate\n",
    "features_train, features_valid, target_train, target_valid = train_test_split(\n",
    "    features, target, test_size=0.25, random_state=12345\n",
    ")\n",
    "\n",
    "# Train the model\n",
    "model = LogisticRegression(random_state=12345, solver='liblinear')\n",
    "model.fit(features_train, target_train)\n",
    "# Get probabilities and possitive class\n",
    "probabilities_valid = model.predict_proba(features_valid)\n",
    "probabilities_one_valid = probabilities_valid[:, 1]\n",
    "\n",
    "# Evaluate thresholds\n",
    "for threshold in np.arange(0, 0.3, 0.02):\n",
    "    predicted_valid = probabilities_one_valid > threshold #< escribe el código aquí >\n",
    "    precision = precision_score(target_valid, predicted_valid)# < escribe el código aquí >\n",
    "    recall = recall_score(target_valid, predicted_valid)# < escribe el código aquí >\n",
    "\n",
    "    print('Threshold = {:.2f} | Precision = {:.3f}, Recall = {:.3f}'.format(threshold, precision, recall))"
   ]
  },
  {
   "cell_type": "markdown",
   "id": "fc472a8e",
   "metadata": {},
   "source": [
    "Threshold = 0.00 | Precision = 0.013, Recall = 1.000\n",
    "Threshold = 0.02 | Precision = 0.052, Recall = 0.645\n",
    "Threshold = 0.04 | Precision = 0.061, Recall = 0.609\n",
    "Threshold = 0.06 | Precision = 0.072, Recall = 0.367\n",
    "Threshold = 0.08 | Precision = 0.097, Recall = 0.254\n",
    "Threshold = 0.10 | Precision = 0.112, Recall = 0.178\n",
    "Threshold = 0.12 | Precision = 0.146, Recall = 0.107\n",
    "Threshold = 0.14 | Precision = 0.033, Recall = 0.012\n",
    "Threshold = 0.16 | Precision = 0.036, Recall = 0.006\n",
    "Threshold = 0.18 | Precision = 0.000, Recall = 0.000\n",
    "Threshold = 0.20 | Precision = 0.000, Recall = 0.000\n",
    "Threshold = 0.22 | Precision = 0.000, Recall = 0.000\n",
    "Threshold = 0.24 | Precision = 0.000, Recall = 0.000\n",
    "Threshold = 0.26 | Precision = 0.000, Recall = 0.000\n",
    "Threshold = 0.28 | Precision = 0.000, Recall = 0.000"
   ]
  }
 ],
 "metadata": {
  "kernelspec": {
   "display_name": "machine_learning_env",
   "language": "python",
   "name": "python3"
  },
  "language_info": {
   "name": "python",
   "version": "3.12.9"
  }
 },
 "nbformat": 4,
 "nbformat_minor": 5
}
