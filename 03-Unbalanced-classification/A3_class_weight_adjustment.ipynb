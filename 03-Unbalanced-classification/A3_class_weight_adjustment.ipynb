{
 "cells": [
  {
   "cell_type": "markdown",
   "id": "524bf2e2",
   "metadata": {},
   "source": [
    "Introducción\n",
    "\n",
    "En el capítulo anterior obtuvimos valores de nuestras métricas cercanos a cero. ¡Ayudemos a nuestro modelo!\n",
    "\n",
    "Empezarás por:\n",
    "\n",
    "- Dominar las técnicas de ajuste de peso de clase (sobremuestreo y submuestreo) para mejorar la calidad del modelo en un escenario de desequilibrio de clases.\n",
    "- Ajustar las métricas de clasificación considerando las probabilidades de clase.\n",
    "- Trazar la curva ROC y calcular el área debajo de esta.\n",
    "\n"
   ]
  },
  {
   "cell_type": "markdown",
   "id": "dfdd0192",
   "metadata": {},
   "source": [
    "Ajuste de peso de clase\n",
    "\n",
    "¡Hagamos que las clases raras pesen más!\n",
    "\n",
    "Imagina que estás haciendo un examen. Dependiendo de la dificultad, las respuestas correctas pueden darte uno o dos puntos. Para obtener una puntuación más alta, te enfocas solo en las respuestas de dos puntos. De manera similar, los modelos también buscan una puntuación más alta, por lo que tienden a centrarse en las observaciones de mayor importancia.\n",
    "\n",
    "Los algoritmos de aprendizaje automático consideran que todas las observaciones del conjunto de entrenamiento tienen la misma ponderación de forma predeterminada. Si necesitamos indicar que algunas observaciones son más importantes, asignamos un peso a la clase respectiva.\n",
    "\n",
    "El algoritmo de regresión logística en la librería sklearn tiene el argumento class_weight. Por defecto, es None, es decir, las clases son equivalentes:\n",
    "\n",
    "class \"0\" weight = 1.0\n",
    "\n",
    "class \"1\" weight = 1.0\n",
    "\n",
    "Si especificamos class_weight='balanced', el algoritmo calculará cuántas veces la clase \"0\" ocurre con más frecuencia que la clase \"1\". Denotaremos este número como N (un número desconocido de veces). Los nuevos pesos de clase se ven así:\n",
    "\n",
    "class \"0\" weight = 1.0\n",
    "\n",
    "class \"1\" weight = N\n",
    "\n",
    "La clase rara tendrá un mayor peso.\n",
    "\n",
    "Los árboles de decisión y los bosques aleatorios también tienen el argumento class_weight.\n"
   ]
  },
  {
   "cell_type": "markdown",
   "id": "e5a481d2",
   "metadata": {},
   "source": [
    "Aquí hay un código de entrenamiento para un modelo de regresión logística con clases igualmente ponderadas de las lecciones anteriores. Equilibra los pesos de clase pasando el valor de argumento adecuado para class_weight. Observa cómo cambia el valor F1."
   ]
  },
  {
   "cell_type": "code",
   "execution_count": null,
   "id": "15144378",
   "metadata": {},
   "outputs": [],
   "source": [
    "import pandas as pd\n",
    "from sklearn.metrics import f1_score\n",
    "from sklearn.model_selection import train_test_split\n",
    "from sklearn.linear_model import LogisticRegression\n",
    "\n",
    "data = pd.read_csv('/datasets/travel_insurance_us_preprocessed.csv')\n",
    "\n",
    "target = data['Claim']\n",
    "features = data.drop('Claim', axis=1)\n",
    "features_train, features_valid, target_train, target_valid = train_test_split(\n",
    "    features, target, test_size=0.25, random_state=12345\n",
    ")\n",
    "\n",
    "model = LogisticRegression(random_state=12345, solver='liblinear', class_weight='balanced')\n",
    "model.fit(features_train, target_train)\n",
    "predicted_valid = model.predict(features_valid)\n",
    "print('F1:', f1_score(target_valid, predicted_valid))\n",
    "\n",
    "# F1: 0.08698830409356724"
   ]
  }
 ],
 "metadata": {
  "kernelspec": {
   "display_name": "machine_learning_env",
   "language": "python",
   "name": "python3"
  },
  "language_info": {
   "name": "python",
   "version": "3.12.9"
  }
 },
 "nbformat": 4,
 "nbformat_minor": 5
}
